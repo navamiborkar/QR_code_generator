{
 "cells": [
  {
   "cell_type": "code",
   "execution_count": 4,
   "id": "7bb78e7e-25b5-44f0-95ba-728285fe817a",
   "metadata": {},
   "outputs": [
    {
     "name": "stdout",
     "output_type": "stream",
     "text": [
      "Requirement already satisfied: tk in d:\\anaconda\\lib\\site-packages (0.1.0)\n",
      "Requirement already satisfied: qrcode in d:\\anaconda\\lib\\site-packages (8.2)\n",
      "Requirement already satisfied: colorama in d:\\anaconda\\lib\\site-packages (from qrcode) (0.4.6)\n",
      "Requirement already satisfied: pillow in d:\\anaconda\\lib\\site-packages (11.1.0)\n"
     ]
    }
   ],
   "source": [
    "!pip install tk\n",
    "!pip install qrcode\n",
    "!pip install pillow"
   ]
  },
  {
   "cell_type": "code",
   "execution_count": 7,
   "id": "9b3fb43e-8efb-4e2f-be14-1310898aabe1",
   "metadata": {},
   "outputs": [],
   "source": [
    "import qrcode\n",
    "from tkinter import *\n",
    "from tkinter import messagebox\n",
    "\n",
    "root = Tk()\n",
    "root.title('QR Code Generator')\n",
    "\n",
    "def generateQR():\n",
    "    # Creating a QRCode object of the size specified by the user\n",
    "    qrc = qrcode.QRCode(version=size.get(), box_size=10, border=5)\n",
    "    # Adding the data to the QRCode\n",
    "    qrc.add_data(txt.get())\n",
    "    # Making the entire QRCode space utilized\n",
    "    qrc.make(fit=True)\n",
    "    # Generating the QRCode\n",
    "    img = qrc.make_image()\n",
    "    # Saving the QRCode to the current directory\n",
    "    img.save(f'{name.get()}.png')\n",
    "\n",
    "    # the pop-up message after saving the file\n",
    "    messagebox.showinfo(\"QR Code Generator\", \"QRCode saved successfully!\")\n",
    "    \n",
    "    #calling the function to display the QRCode\n",
    "    display()\n",
    "    \n",
    "def display():\n",
    "    # Displaying the QR Code\n",
    "    global img1\n",
    "    img1 = PhotoImage(file=f\"{name.get()}.png\")\n",
    "    lable = Label(root, image=img1)\n",
    "    lable.pack()\n",
    "  \n",
    "# Heading for the window\n",
    "headLabel = Label(root, text=\"Generate QR Code\", font=('Times New Roman', 17, 'bold'))\n",
    "headLabel.pack()\n",
    "\n",
    "# Taking the input of the text or link to get QRCode\n",
    "L1 = Label(root, text=\"Enter any text or link : \")\n",
    "L1.pack()\n",
    "\n",
    "txt = Entry(root)\n",
    "txt.pack()\n",
    "\n",
    "# Getting input, image name of the QRCode\n",
    "L3 = Label(root, text=\"Enter the name of the QR Code: \")\n",
    "L3.pack()\n",
    "\n",
    "name = Entry(root)\n",
    "name.pack()\n",
    "\n",
    "# Getting the input, size of the QR Code\n",
    "L4 = Label(root, text=\"Enter the size from 1 to 40 \")\n",
    "L4.pack()\n",
    "\n",
    "size = Entry(root)\n",
    "size.pack()\n",
    "\n",
    "# Button to generate QRCode and save it\n",
    "button = Button(root, text='Generate Code', command=generateQR)\n",
    "button.pack()\n",
    "\n",
    "\n",
    "# Runs the window until closed manually\n",
    "root.mainloop()\n"
   ]
  },
  {
   "cell_type": "code",
   "execution_count": null,
   "id": "0ee9d8b1-fd7b-456e-8bb2-d9d02784695d",
   "metadata": {},
   "outputs": [],
   "source": []
  }
 ],
 "metadata": {
  "kernelspec": {
   "display_name": "Python 3 (ipykernel)",
   "language": "python",
   "name": "python3"
  },
  "language_info": {
   "codemirror_mode": {
    "name": "ipython",
    "version": 3
   },
   "file_extension": ".py",
   "mimetype": "text/x-python",
   "name": "python",
   "nbconvert_exporter": "python",
   "pygments_lexer": "ipython3",
   "version": "3.13.5"
  }
 },
 "nbformat": 4,
 "nbformat_minor": 5
}
